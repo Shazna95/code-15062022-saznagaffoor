{
  "nbformat": 4,
  "nbformat_minor": 0,
  "metadata": {
    "colab": {
      "name": "BMI_Challenge_Sazna.ipynb",
      "provenance": [],
      "collapsed_sections": []
    },
    "kernelspec": {
      "name": "python3",
      "display_name": "Python 3"
    },
    "language_info": {
      "name": "python"
    }
  },
  "cells": [
    {
      "cell_type": "markdown",
      "source": [
        "### **BMI CHALLENGE**"
      ],
      "metadata": {
        "id": "fVDyGkFVCFsE"
      }
    },
    {
      "cell_type": "code",
      "execution_count": 1,
      "metadata": {
        "id": "_lzsmbX-Rn07"
      },
      "outputs": [],
      "source": [
        "#import required libraries\n",
        "import pandas as pd\n",
        "import json\n",
        "from numpy import NaN"
      ]
    },
    {
      "cell_type": "code",
      "source": [
        "def bmi_calculator(heightcm, weightkg): #formula for bmi calculating\n",
        "  bmi = weightkg / ((heightcm/100)**2) #convert height from cm to m\n",
        "  return round(bmi,2) #round off result to 2 decimal places\n",
        "\n",
        "def bmi_cat_calc(bmi_val): #calculate category and health risk based on BMI\n",
        "  if bmi_val <= 18.4:\n",
        "    cat = 'Underweight'\n",
        "    hr = 'Malnutrition risk'\n",
        "  elif ((bmi_val >= 18.5) & (bmi_val <= 24.9)):\n",
        "    cat = 'Normal weight'\n",
        "    hr = 'Low risk'\n",
        "  elif ((bmi_val >= 25) & (bmi_val <= 29.9)):\n",
        "    cat = 'Overweight'\n",
        "    hr = 'Enhanced risk'  \n",
        "  elif ((bmi_val >= 30) & (bmi_val <= 34.9)):\n",
        "    cat = 'Moderately obese'\n",
        "    hr =  'Medium risk'\n",
        "  elif ((bmi_val >= 35) & (bmi_val <= 39.9)):\n",
        "    cat = 'Severely obese'\n",
        "    hr = 'High risk'\n",
        "  elif bmi_val >= 40:\n",
        "    cat = 'Very severely obese'\n",
        "    hr = 'Very high risk'\n",
        "\n",
        "  return pd.Series([cat, hr]) #return the category and health risk as a series"
      ],
      "metadata": {
        "id": "7ElS72zeSxAW"
      },
      "execution_count": 39,
      "outputs": []
    },
    {
      "cell_type": "markdown",
      "source": [
        "*The following function loads data as a json file, and return a json string that can be read into a REST API for deployment. The data can be retrieved from the \"data\" key and the number of overweight people can be retrieved from the \"No_of_overweights\" key*"
      ],
      "metadata": {
        "id": "-3BjQFt-C2so"
      }
    },
    {
      "cell_type": "code",
      "source": [
        "def main():\n",
        "  df = pd.read_json(data)\n",
        "  df['BMI'] = df.apply(lambda x: bmi_calculator(x.HeightCm, x.WeightKg), axis=1)\n",
        "  df[['BMI_Category', 'Health_Risk']] = df['BMI'].apply(bmi_cat_calc)\n",
        "  number_of_overweight_people = df.loc[df.BMI_Category == 'Overweight', 'BMI_Category'].count()\n",
        "\n",
        "  json_result = df.to_json(orient=\"split\")\n",
        "  json_file = json.loads(json_result)\n",
        "  json_file['No_of_overweights'] = str(number_of_overweight_people)\n",
        "\n",
        "  json_string = json.dumps(json_file)\n",
        "  return json_string"
      ],
      "metadata": {
        "id": "mDWDNKRU2Gn1"
      },
      "execution_count": 43,
      "outputs": []
    },
    {
      "cell_type": "markdown",
      "source": [
        "Unit Testing - *tests the functions for a given data point*"
      ],
      "metadata": {
        "id": "Sy_k92Fg-7lw"
      }
    },
    {
      "cell_type": "code",
      "source": [
        "height = 175\n",
        "weight = 75\n",
        "\n",
        "bmi = bmi_calculator(height, weight)\n",
        "bmi_cat = bmi_cat_calc(bmi)\n",
        "\n",
        "print(bmi)\n",
        "print(bmi_cat.to_string(index=False))"
      ],
      "metadata": {
        "colab": {
          "base_uri": "https://localhost:8080/"
        },
        "id": "AehUgzAM-7Mz",
        "outputId": "3d0b28cf-c127-4742-86d2-6ff69aa13696"
      },
      "execution_count": 41,
      "outputs": [
        {
          "output_type": "stream",
          "name": "stdout",
          "text": [
            "24.49\n",
            "Normal weight\n",
            "     Low risk\n"
          ]
        }
      ]
    }
  ]
}